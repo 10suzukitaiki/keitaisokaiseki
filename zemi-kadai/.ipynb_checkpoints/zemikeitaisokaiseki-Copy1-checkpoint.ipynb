{
 "cells": [
  {
   "cell_type": "code",
   "execution_count": 4,
   "id": "98ce9575",
   "metadata": {},
   "outputs": [
    {
     "name": "stdout",
     "output_type": "stream",
     "text": [
      "ページ 1:\n",
      "私は形態素解析が大好きです！  \n",
      "------------------------------\n"
     ]
    }
   ],
   "source": [
    "\n",
    "\n",
    "from PyPDF2 import PdfReader  # PyPDF2ライブラリをインポート\n",
    "\n",
    "# PDFファイルを読み込む\n",
    "file_path = \"C://Users//User//Documents//3年後期//ゼミ//a.pdf\"  # 読み込みたいPDFファイルのパスを指定します\n",
    "reader = PdfReader(file_path)  # PdfReaderを使用してPDFを開きます\n",
    "\n",
    "# 各ページからテキストを抽出\n",
    "for page_num, page in enumerate(reader.pages):  # PDF内の各ページをループ処理\n",
    "    print(f\"ページ {page_num + 1}:\")  # ページ番号を表示\n",
    "    print(page.extract_text())  # ページ内のテキストを抽出して表示\n",
    "    print(\"-\" * 30)  # ページ区切り線を挿入\n"
   ]
  },
  {
   "cell_type": "code",
   "execution_count": 5,
   "id": "96f0888a",
   "metadata": {},
   "outputs": [
    {
     "name": "stdout",
     "output_type": "stream",
     "text": [
      "ページ  私は形態素解析が大好きです！\n"
     ]
    }
   ],
   "source": [
    "import pandas as pd\n",
    "import regex as re\n",
    "\n",
    "# PDFから抽出されたテキストを変数 `text` に格納していると仮定\n",
    "text = \"\"\"ページ 1:\n",
    "私は形態素解析が大好きです！\n",
    "\"\"\"\n",
    "\n",
    "def preprocess_text(text):\n",
    "    # \u0011を消去\n",
    "    text = text.replace(\"\u0011\",\"\")\n",
    "    \n",
    "    # 改行を削除\n",
    "    text = text.replace(\"\\n\", \" \")\n",
    "    # 半角と全角の空白を統一（全角空白を削除）\n",
    "    text = re.sub(r'\\s+', \" \", text)\n",
    "    # 特殊文字や数字を削除\n",
    "    text = re.sub(r'[0-9０-９!-/:-@[-`{-~]', \"\", text)\n",
    "    # 正規化（必要に応じて実施、ここでは仮に全角カナを半角に統一）\n",
    "    text = re.sub(r'[Ａ-Ｚａ-ｚ０-９]+', lambda m: m.group(0).lower(), text)\n",
    "    return text.strip()\n",
    "\n",
    "cleaned_text = preprocess_text(text)\n",
    "print(cleaned_text)\n"
   ]
  },
  {
   "cell_type": "code",
   "execution_count": 6,
   "id": "b600ae97",
   "metadata": {},
   "outputs": [
    {
     "name": "stdout",
     "output_type": "stream",
     "text": [
      "解析結果:\n",
      "ページ\tページ\tページ\tページ-page\t名詞-普通名詞-助数詞可能\t\t\t0\n",
      "私\tワタクシ\tワタクシ\t私-代名詞\t代名詞\t\t\t0\n",
      "は\tワ\tハ\tは\t助詞-係助詞\t\t\t\n",
      "形態\tケータイ\tケイタイ\t形態\t名詞-普通名詞-一般\t\t\t0\n",
      "素\tソ\tソ\t素\t接尾辞-名詞的-一般\t\t\t\n",
      "解析\tカイセキ\tカイセキ\t解析\t名詞-普通名詞-サ変可能\t\t\t0\n",
      "が\tガ\tガ\tが\t助詞-格助詞\t\t\t\n",
      "大好き\tダイスキ\tダイスキ\t大好き\t形状詞-一般\t\t\t1\n",
      "です\tデス\tデス\tです\t助動詞\t助動詞-デス\t終止形-一般\t\n",
      "！\t\t\t！\t補助記号-句点\t\t\t\n",
      "EOS\n",
      "\n"
     ]
    }
   ],
   "source": [
    "import MeCab\n",
    "\n",
    "# MeCab Taggerを初期化\n",
    "tagger = MeCab.Tagger()\n",
    "\n",
    "# 日本語テキスト\n",
    "text = \"ページ  私は形態素解析が大好きです！\"\n",
    "# 形態素解析を実行\n",
    "parsed_text = tagger.parse(text)\n",
    "\n",
    "print(\"解析結果:\")\n",
    "print(parsed_text)\n",
    "\n"
   ]
  },
  {
   "cell_type": "code",
   "execution_count": 8,
   "id": "5e7e32df",
   "metadata": {},
   "outputs": [
    {
     "name": "stdout",
     "output_type": "stream",
     "text": [
      "私 は 形態 素 解析 が 大好き です ！ \n",
      "\n"
     ]
    }
   ],
   "source": [
    "import MeCab  #ルールベース解析　辞書に載っている単語に反応、文脈を考慮しない\n",
    "mecab = MeCab.Tagger(\"-Owakati\")#単語単位に分類\n",
    "text = \"私は形態素解析が大好きです！\"\n",
    "print(mecab.parse(text))\n"
   ]
  },
  {
   "cell_type": "code",
   "execution_count": 9,
   "id": "7a5fd385",
   "metadata": {},
   "outputs": [
    {
     "ename": "SyntaxError",
     "evalue": "invalid syntax (2405759143.py, line 1)",
     "output_type": "error",
     "traceback": [
      "\u001b[1;36m  File \u001b[1;32m\"C:\\Users\\User\\AppData\\Local\\Temp\\ipykernel_27548\\2405759143.py\"\u001b[1;36m, line \u001b[1;32m1\u001b[0m\n\u001b[1;33m    mkdir test\u001b[0m\n\u001b[1;37m          ^\u001b[0m\n\u001b[1;31mSyntaxError\u001b[0m\u001b[1;31m:\u001b[0m invalid syntax\n"
     ]
    }
   ],
   "source": [
    "\n",
    "mkdir test\n",
    "cd test\n",
    "git init\n",
    "Initialized empty Git repository in /Users/xxx/test/.git/\n",
    "git remote add origin \"git@github.com:10suzukitaiki/keitaisokaiseki.git\"\n"
   ]
  },
  {
   "cell_type": "code",
   "execution_count": null,
   "id": "3110b8c1",
   "metadata": {},
   "outputs": [],
   "source": []
  }
 ],
 "metadata": {
  "kernelspec": {
   "display_name": "Python 3 (ipykernel)",
   "language": "python",
   "name": "python3"
  },
  "language_info": {
   "codemirror_mode": {
    "name": "ipython",
    "version": 3
   },
   "file_extension": ".py",
   "mimetype": "text/x-python",
   "name": "python",
   "nbconvert_exporter": "python",
   "pygments_lexer": "ipython3",
   "version": "3.9.13"
  }
 },
 "nbformat": 4,
 "nbformat_minor": 5
}
